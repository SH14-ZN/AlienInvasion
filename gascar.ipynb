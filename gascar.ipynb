{
  "nbformat": 4,
  "nbformat_minor": 0,
  "metadata": {
    "colab": {
      "name": "gascar.ipynb",
      "provenance": [],
      "collapsed_sections": [],
      "authorship_tag": "ABX9TyNRkExuwH3+a5HC5ukxBW8j",
      "include_colab_link": true
    },
    "kernelspec": {
      "name": "python3",
      "display_name": "Python 3"
    }
  },
  "cells": [
    {
      "cell_type": "markdown",
      "metadata": {
        "id": "view-in-github",
        "colab_type": "text"
      },
      "source": [
        "<a href=\"https://colab.research.google.com/github/SH14-ZN/AlienInvasion/blob/main/gascar.ipynb\" target=\"_parent\"><img src=\"https://colab.research.google.com/assets/colab-badge.svg\" alt=\"Open In Colab\"/></a>"
      ]
    },
    {
      "cell_type": "code",
      "metadata": {
        "id": "JpWbfGrBGUx9"
      },
      "source": [
        "class Vehicle:\r\n",
        "  def __init__ (self, make, model, year, color):\r\n",
        "    self.make = make\r\n",
        "    self.model = model\r\n",
        "    self.year = year\r\n",
        "    self.color = color\r\n",
        "    self.odometer = 0\r\n",
        "\r\n",
        "  def print_description(self, *args):\r\n",
        "   vehicle = f\"{self.make} {self.model} {self.year} {self.color}\"\r\n",
        "   return vehicle.title()\r\n",
        "\r\n",
        "  def set_odometer(self, miliage):\r\n",
        "    self.odeometer = miliage"
      ],
      "execution_count": 3,
      "outputs": []
    },
    {
      "cell_type": "code",
      "metadata": {
        "colab": {
          "base_uri": "https://localhost:8080/"
        },
        "id": "b-_32UiY6999",
        "outputId": "c26cdf22-6503-415c-e36a-7595400cb8ee"
      },
      "source": [
        "class GasCar(Vehicle):\r\n",
        "  def __init__(self, make, model, year, color):\r\n",
        "    super().__init__(make, model, year, color)\r\n",
        "    self.fuel = 0\r\n",
        "\r\n",
        "  def increase_fuel(self, amount):\r\n",
        "    self.fuel += amount\r\n",
        "    return self.fuel\r\n",
        "\r\n",
        "car1 = GasCar(\"Toyota\", \"S5\", 2012, \"White\")\r\n",
        "car1.set_odometer(4000)\r\n",
        "print(car1.print_description())\r\n",
        "print(f\"my car has about {car1.fuel} litres of fuel\")\r\n",
        "\r\n",
        "#change details in vehicle\r\n",
        "car1.color=\"Blue\"\r\n",
        "print(car1.print_description())\r\n",
        "\r\n",
        "#modifying an attribute value through a method\r\n",
        "car1.increase_fuel(40)\r\n",
        "car1.increase_fuel(11)\r\n",
        "print(f\"my car has about {car1.fuel} litres of fuel\")\r\n"
      ],
      "execution_count": 4,
      "outputs": [
        {
          "output_type": "stream",
          "text": [
            "Toyota S5 2012 White\n",
            "my car has about 0 litres of fuel\n",
            "Toyota S5 2012 Blue\n",
            "my car has about 51 litres of fuel\n"
          ],
          "name": "stdout"
        }
      ]
    },
    {
      "cell_type": "code",
      "metadata": {
        "id": "TY9SZqgTDVQD"
      },
      "source": [
        "class ElectricCar (Vehicle):\r\n",
        "  def __init__(self, make, model, year, color):\r\n",
        "    super().__init__(make, model, year, color)\r\n",
        "    self.__battery_size = 2000\r\n",
        "    self.__range = 100\r\n",
        "\r\n",
        "  \"\"\"#overriding\r\n",
        "  def print_description(self):\r\n",
        "    vehicle= super().print_description()\r\n",
        "    print(vehicle)\r\n",
        "    print(f\"This can go about {self.__range} kilometers on a full charge\")\r\n",
        "  \"\"\"\r\n",
        "\r\n",
        "  #overriding and overloading\r\n",
        "  def print_description(self, *args):\r\n",
        "    vehicle = super().print_description()\r\n",
        "    print(vehicle)\r\n",
        "    print(f\"This can go about {self.__range} kilometers on a full charge\")\r\n",
        "    if (args):\r\n",
        "      print(\"Additional car details \")\r\n",
        "      for d in args:\r\n",
        "        data = ' '.join(d) #join the tuple of args spacing by \" \"\r\n",
        "        print(data)\r\n"
      ],
      "execution_count": 45,
      "outputs": []
    },
    {
      "cell_type": "code",
      "metadata": {
        "colab": {
          "base_uri": "https://localhost:8080/"
        },
        "id": "sM0chyWnWGHf",
        "outputId": "8b858f3d-14f6-41c2-870f-b32e89164174"
      },
      "source": [
        "car2= ElectricCar(\"Tesla\", \"Model X\", 2018, \"White\")\r\n",
        "#print(dir(car2))\r\n",
        "#car2.print_description()\r\n",
        "car2.print_description((\"Registarion No:\", \"No 345\"), (\"Owner Name:\", \"Jane Do\"))"
      ],
      "execution_count": 47,
      "outputs": [
        {
          "output_type": "stream",
          "text": [
            "Tesla Model X 2018 White\n",
            "This can go about 100 kilometers on a full charge\n",
            "Additional car details \n",
            "Registarion No: No 345\n",
            "Owner Name: Jane Do\n"
          ],
          "name": "stdout"
        }
      ]
    },
    {
      "cell_type": "code",
      "metadata": {
        "id": "YQSWrU9mC38y"
      },
      "source": [
        "#assignments\r\n",
        "#Create a class called \"Animals\" and create two instances from it. Use two variables with names of \"lion\" and \"tiger\r\n",
        "class Animal:\r\n",
        "  pass\r\n",
        "\r\n",
        "tiger= Animal()\r\n",
        "lion= Animal()"
      ],
      "execution_count": 48,
      "outputs": []
    },
    {
      "cell_type": "code",
      "metadata": {
        "colab": {
          "base_uri": "https://localhost:8080/"
        },
        "id": "uIP7Q8FFVz0G",
        "outputId": "c5e8284b-d15c-4f61-c415-b20f8e1c8c7a"
      },
      "source": [
        "#Create a Dog class that has one global attribute and two instance-level attributes. \r\n",
        "#The global attribute should be \"species\" with a value of \"Canine\". \r\n",
        "#The two instance attributes should be \"name\" and \"breed\". \r\n",
        "#Then instantiate two dog objects, a Husky named Sammi, and a Chocolate Lab named Casey.\r\n",
        "\r\n",
        "class Dog():\r\n",
        "  species = \"Canine\" #global variable\r\n",
        "\r\n",
        "  def __init__(self, name, breed):\r\n",
        "    self.name=name\r\n",
        "    self.breed=breed\r\n",
        "    \r\n",
        "\r\n",
        "  def info (self):\r\n",
        "    print(self.name, self.breed)\r\n",
        "  print(species)\r\n",
        "\r\n",
        "dog1 = Dog(\"Husky\", \"Sammi\")\r\n",
        "dog2 = Dog(\"Chocolate Lab\", \"Casey\")\r\n",
        "dog1.info()\r\n",
        "dog2.info()\r\n",
        "\r\n",
        "\r\n",
        "\r\n"
      ],
      "execution_count": 62,
      "outputs": [
        {
          "output_type": "stream",
          "text": [
            "Canine\n",
            "Husky Sammi\n",
            "Chocolate Lab Casey\n"
          ],
          "name": "stdout"
        }
      ]
    },
    {
      "cell_type": "code",
      "metadata": {
        "colab": {
          "base_uri": "https://localhost:8080/"
        },
        "id": "WqJKvhioG_XL",
        "outputId": "2d818e96-f046-4093-ff93-aca071dd98d6"
      },
      "source": [
        "\"\"\"Animals: Create a class definition of an animal that has a species attribute and both \r\n",
        "a setter and getter to change or access the attributes' value. Create an instance called \r\n",
        "\"lion\" and call the setter method with an argument of \"feline\". \r\n",
        "Then print out the species by calling the getter method.\"\"\"\r\n",
        "\r\n",
        "class Animals:\r\n",
        "  def __init__(self):\r\n",
        "    species = \"\"\r\n",
        "\r\n",
        "  def setter (self, species):\r\n",
        "    self.species = species\r\n",
        "\r\n",
        "  def getter(self):\r\n",
        "    print(f\"The spiceis is {self.species}\")\r\n",
        "\r\n",
        "lion = Animals()\r\n",
        "lion.setter(\"feline\")\r\n",
        "lion.getter()"
      ],
      "execution_count": 64,
      "outputs": [
        {
          "output_type": "stream",
          "text": [
            "The spiceis is feline\n"
          ],
          "name": "stdout"
        }
      ]
    },
    {
      "cell_type": "code",
      "metadata": {
        "colab": {
          "base_uri": "https://localhost:8080/"
        },
        "id": "6qlRMasMIZ8B",
        "outputId": "1fc7a73e-c05a-4179-8f6c-2029054a30cd"
      },
      "source": [
        "\"\"\"Good Guys/Bad Guys: Create three classes, a superclass called \"Characters\" \r\n",
        "that will be defined with the following attributes and methods:\r\n",
        "\r\n",
        "a. Attributes: name, team, height, weight\r\n",
        "b. Methods: sayHello\r\n",
        "\r\n",
        "The sayHello method should output the statement \"Hello, my name is Max and I'm on the good guys.\".\r\n",
        "The team attribute should be declared to a string of either \"good\" or \"bad\". The other two classes, which will be subclasses, \r\n",
        "will be all the attributes that the superclass requires. \r\n",
        "The subclasses do not need any other methods or attributes. \r\n",
        "Instantiate one player on each team and call the sayHello method for each. The output should result in the following:\r\n",
        "\r\n",
        ">>> \"Hello, my name is Max and I'm on the good guys\"\r\n",
        ">>> \"Hello, my name is Tony and I'm on the bad guys\"\"\"\r\n",
        "\r\n",
        "class Characters():\r\n",
        "  def __init__(self, name, height, weight):\r\n",
        "    self.name = name\r\n",
        "    self.team = \" \"\r\n",
        "    self.height = height\r\n",
        "    self.weight = weight\r\n",
        "\r\n",
        "  def sayHello(self):\r\n",
        "    if(self.name==\"Mark\"):\r\n",
        "      self.team=\"good\"\r\n",
        "    else:\r\n",
        "      self.team=\"bad\"\r\n",
        "  \r\n",
        "    print(f\"Hello, my name is {self.name} and I'm on the {self.team} guys\")\r\n",
        "\r\n",
        "class Goodguy(Characters):\r\n",
        "  def __init__(self, name, height, weight):\r\n",
        "    super().__init__(name, height, weight)\r\n",
        "\r\n",
        "class Badguy(Characters):\r\n",
        "  def __init__(self, name, height, weight):\r\n",
        "    super().__init__(name, height, weight)\r\n",
        "\r\n",
        "\r\n",
        "mark = Goodguy(\"Mark\", 177, 45)\r\n",
        "mark.sayHello()\r\n",
        "tony = Badguy(\"Tony\", 178, 66)\r\n",
        "tony.sayHello()"
      ],
      "execution_count": 12,
      "outputs": [
        {
          "output_type": "stream",
          "text": [
            "Hello, my name is Mark and I'm on the good guys\n",
            "Hello, my name is Tony and I'm on the bad guys\n"
          ],
          "name": "stdout"
        }
      ]
    }
  ]
}